{
 "cells": [
  {
   "cell_type": "code",
   "execution_count": 1,
   "id": "482d3773",
   "metadata": {},
   "outputs": [],
   "source": [
    "# Import dependencies\n",
    "import numpy as np"
   ]
  },
  {
   "cell_type": "code",
   "execution_count": 4,
   "id": "b94571e8",
   "metadata": {},
   "outputs": [],
   "source": [
    "import timeit"
   ]
  },
  {
   "cell_type": "code",
   "execution_count": 5,
   "id": "42431822",
   "metadata": {},
   "outputs": [
    {
     "name": "stdout",
     "output_type": "stream",
     "text": [
      "13.5 µs ± 66.5 ns per loop (mean ± std. dev. of 7 runs, 100000 loops each)\n"
     ]
    }
   ],
   "source": [
    "%timeit np.random.uniform(-90.000, 90.000, size=1500)"
   ]
  },
  {
   "cell_type": "code",
   "execution_count": 3,
   "id": "31f1efea",
   "metadata": {},
   "outputs": [
    {
     "data": {
      "text/plain": [
       "array([-71.9388773 , -63.2809898 , -66.75952401, -42.28102856,\n",
       "        57.99179784,  25.31446452,   5.96861119,  58.7700185 ,\n",
       "        65.58419663, -87.05312577,  49.87034448,  88.64260736,\n",
       "        88.62270632,  80.28626986,  84.56199979,  27.7406631 ,\n",
       "        78.47111366, -48.33103835,  41.68897206,  10.38341186,\n",
       "       -70.69096574,  89.72085395, -84.07483387,   3.85845294,\n",
       "       -78.4252391 , -25.41090604, -73.06882146,  22.00806178,\n",
       "       -67.73891293, -18.68575575,  13.12745595,  -0.70164879,\n",
       "        55.06530934,  46.52656775,  18.90717366, -81.12367677,\n",
       "        28.29041247,  78.15915352,   5.50879344,  60.8028943 ,\n",
       "        34.80828248, -31.60337634,  57.88599654, -85.55033918,\n",
       "       -40.61018647,  22.15685423,  16.43857052,  42.59516739,\n",
       "        36.11600287,   1.23649333])"
      ]
     },
     "execution_count": 3,
     "metadata": {},
     "output_type": "execute_result"
    }
   ],
   "source": [
    "np.random.uniform(-90.000, 90.000, size=50)"
   ]
  },
  {
   "cell_type": "code",
   "execution_count": 7,
   "id": "266edd44",
   "metadata": {},
   "outputs": [
    {
     "name": "stdout",
     "output_type": "stream",
     "text": [
      "4.04 ms ± 53.5 µs per loop (mean ± std. dev. of 7 runs, 100 loops each)\n"
     ]
    }
   ],
   "source": [
    "def latitudes(size):\n",
    "    latitudes = []\n",
    "    x = 0\n",
    "    while x < (size):\n",
    "        random_lat = np.random.randint(-90, 90) + np.random.random()\n",
    "        latitudes.append(random_lat)\n",
    "        x += 1\n",
    "    return latitudes\n",
    "# Call the function with 1500.\n",
    "%timeit latitudes(1500)"
   ]
  }
 ],
 "metadata": {
  "kernelspec": {
   "display_name": "PythonData",
   "language": "python",
   "name": "pythondata"
  },
  "language_info": {
   "codemirror_mode": {
    "name": "ipython",
    "version": 3
   },
   "file_extension": ".py",
   "mimetype": "text/x-python",
   "name": "python",
   "nbconvert_exporter": "python",
   "pygments_lexer": "ipython3",
   "version": "3.7.10"
  }
 },
 "nbformat": 4,
 "nbformat_minor": 5
}
